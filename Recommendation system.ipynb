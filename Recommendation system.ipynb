{
 "cells": [
  {
   "cell_type": "code",
   "execution_count": null,
   "id": "cde63cc0",
   "metadata": {
    "scrolled": true
   },
   "outputs": [],
   "source": [
    "# I import all the packages I need\n",
    "import pandas as pd\n",
    "import numpy as np\n",
    "from sklearn.model_selection import train_test_split\n",
    "from sklearn.metrics.pairwise import cosine_similarity\n",
    "import tkinter as tk\n",
    "from tkinter import messagebox\n",
    "from tkinter import ttk"
   ]
  },
  {
   "cell_type": "code",
   "execution_count": null,
   "id": "e0e9bc17",
   "metadata": {},
   "outputs": [],
   "source": [
    "# I upload the dataset related to the ratings that contains the rating (out of 5) by each user for some movies\n",
    "\n",
    "ratings= pd.read_csv('https://raw.githubusercontent.com/ValentinaCoppi/IT-coding-project/main/ratings.csv')\n",
    "ratings.head()"
   ]
  },
  {
   "cell_type": "code",
   "execution_count": null,
   "id": "defb0dfd",
   "metadata": {
    "scrolled": true
   },
   "outputs": [],
   "source": [
    "# I upload the dataset that contains the title of the movies and their genre\n",
    "\n",
    "movies= pd.read_csv('https://raw.githubusercontent.com/ValentinaCoppi/IT-coding-project/main/movies.csv')\n",
    "movies.head()"
   ]
  },
  {
   "attachments": {},
   "cell_type": "markdown",
   "id": "e3c23854",
   "metadata": {},
   "source": [
    "My aim is to create a collaborative filtering based on the cosine distance between the users, in order to fill in the gaps of the rating for the unseen movies, and propose the user the best movies he may like."
   ]
  },
  {
   "cell_type": "code",
   "execution_count": null,
   "id": "46c684c7",
   "metadata": {},
   "outputs": [],
   "source": [
    "# I calculate the mean rating for each user\n",
    "def meanbyuser(user):\n",
    "    return ratings.groupby('userId')[['rating']].mean().rating[user]"
   ]
  },
  {
   "cell_type": "code",
   "execution_count": null,
   "id": "b26cd86a",
   "metadata": {},
   "outputs": [],
   "source": [
    "mean_rating= ratings.groupby('userId')[['rating']].mean()"
   ]
  },
  {
   "cell_type": "code",
   "execution_count": null,
   "id": "0736a469",
   "metadata": {},
   "outputs": [],
   "source": [
    "#I change the names at the original dataset and the userId column\n",
    "\n",
    "x = ratings.copy()\n",
    "y = ratings['userId']\n"
   ]
  },
  {
   "cell_type": "code",
   "execution_count": null,
   "id": "2da1366a",
   "metadata": {},
   "outputs": [],
   "source": [
    "# I need to transform the training dataset in a matrix that has users as row index and movie as column index, and fill it in with the ratings\n",
    "\n",
    "df_ratings = x.pivot(index='userId', columns= 'movieId', values='rating')"
   ]
  },
  {
   "cell_type": "code",
   "execution_count": null,
   "id": "87d981ab",
   "metadata": {},
   "outputs": [],
   "source": [
    "# I have a look at the dataset\n",
    "df_ratings"
   ]
  },
  {
   "cell_type": "code",
   "execution_count": null,
   "id": "551beddf",
   "metadata": {},
   "outputs": [],
   "source": [
    "# I create a copy of the dataset, in order to modify it without causing problems\n",
    "df_ratings0= df_ratings.copy()"
   ]
  },
  {
   "cell_type": "code",
   "execution_count": null,
   "id": "41091c2c",
   "metadata": {},
   "outputs": [],
   "source": [
    "# I want to normalize all the ratings, subtracting the mean value for each user, in order to make the ratings more fair\n",
    "\n",
    "for i in range(1,len(mean_rating['rating']+1)):\n",
    "    df_ratings0.loc[i,:]=np.array(df_ratings0.loc[i,:])-mean_rating['rating'][i] \n"
   ]
  },
  {
   "cell_type": "code",
   "execution_count": null,
   "id": "3cdbcc8f",
   "metadata": {},
   "outputs": [],
   "source": [
    "# This is the new dataframe with the normalized ratings\n",
    "df_ratings0"
   ]
  },
  {
   "cell_type": "code",
   "execution_count": null,
   "id": "d75b820c",
   "metadata": {},
   "outputs": [],
   "source": [
    "# I want that NaN are filled with 0, or I can't work on the matrix\n",
    "# For doing that I create a copy of df_ratings0 \n",
    "\n",
    "df_ratings1 = df_ratings0.copy().fillna(0)\n",
    "df_ratings1.head()"
   ]
  },
  {
   "cell_type": "code",
   "execution_count": null,
   "id": "bfb4d78e",
   "metadata": {},
   "outputs": [],
   "source": [
    "# I calculate the cosine similarity of the users and I create a dataframe that contains it\n",
    "\n",
    "similarity_matrix = cosine_similarity(df_ratings1, df_ratings1)\n",
    "similarity_matrix_df = pd.DataFrame(similarity_matrix, index=df_ratings.index, columns=df_ratings.index)"
   ]
  },
  {
   "cell_type": "code",
   "execution_count": null,
   "id": "102c46dd",
   "metadata": {
    "scrolled": false
   },
   "outputs": [],
   "source": [
    "# Let's have a look at the similarity matrix\n",
    "similarity_matrix_df.head()"
   ]
  },
  {
   "attachments": {},
   "cell_type": "markdown",
   "id": "2502f191",
   "metadata": {},
   "source": [
    "Now, all the main elements have been created, so I can write the main function of the program, the one that actually recommand the movies.\n",
    "The recommandation system is user based, so the funtion requires to isert one of the UserId and will give back both the list of the movies seen by the User chosen and the first 20 movies per possible rating, basing on similar users ratings."
   ]
  },
  {
   "cell_type": "code",
   "execution_count": null,
   "id": "50a869ea",
   "metadata": {},
   "outputs": [],
   "source": [
    "def Recommand(picked_userid):   \n",
    "    # I remove picked UserId from the candidate list in the similarity matrix previously created\n",
    "    similarity_matrix_df.drop(index=picked_userid, inplace=False)\n",
    "   \n",
    "    # I decide that the number of similar user that I want consider is 10\n",
    "    n = 10\n",
    "    # Anyway I don't want users that are not similar at all, so I put a User similarity threashold\n",
    "    user_similarity_threshold = 0.09\n",
    "    # Here, I get top n similar users that exceed the threshold\n",
    "    similar_users = similarity_matrix_df[similarity_matrix_df[picked_userid]>user_similarity_threshold][picked_userid].sort_values(ascending=False)[:n]\n",
    "\n",
    "    #I make a dataframe with the movies that the target user has watched (I actually make two, one with the normalized data and one with the real one)\n",
    "    picked_userid_watched = df_ratings0[df_ratings0.index == picked_userid].dropna(axis=1, how='all')\n",
    "    picked_userid_watched1 = df_ratings[df_ratings.index == picked_userid].dropna(axis=1, how='all')\n",
    "    #I make a dataframe with the movies that similar users watched and I remove movies that none of the similar users have watched (drop the columns with all NA)\n",
    "    similar_user_movies = df_ratings0[df_ratings0.index.isin(similar_users.index)].dropna(axis=1, how='all')\n",
    "    #Now, I remove the watched movies by the chosen User from the movie list. \n",
    "    #In this way I got a dataframe with all the movies that the picked user did't watch, but some of the similar users did \n",
    "    similar_user_movies.drop(picked_userid_watched.columns,axis=1, inplace=True, errors='ignore')\n",
    "    \n",
    "    #I create a dictionary to store item scores\n",
    "    item_score = {}\n",
    "    #I loop through movies\n",
    "    for i in similar_user_movies.columns:\n",
    "      # I get the ratings for movie i\n",
    "        movie_rating = similar_user_movies[i]\n",
    "      # I create a variable to store the score\n",
    "        total = 0\n",
    "      # I create a variable to store the number of scores\n",
    "        count = 0\n",
    "      # I loop through similar users\n",
    "        for u in similar_users.index:\n",
    "        # If the movie has rating\n",
    "            if pd.isna(movie_rating[u]) == False:\n",
    "          # Score is the sum of user similarity score multiply by the movie rating, because I want that more similar users weight more in the movies score\n",
    "              score = similar_users[u] * movie_rating[u]\n",
    "          # I add the score to the total score for the movie so far\n",
    "              total += score\n",
    "          # I increase the count\n",
    "              count +=1\n",
    "      # Now, I get the average score for the item and I add back the mean score for the user picked\n",
    "        item_score[i] = total / count+ meanbyuser(picked_userid)\n",
    "    # I convert the dictionary to pandas dataframe and I format the avarage rate with 2 decimal digits\n",
    "    item_score = pd.DataFrame(item_score.items(), columns=['movieId', 'movie_score'])\n",
    "    item_score['movie_score'] = item_score['movie_score'].apply(lambda x: float(\"{:.2f}\".format(x)))\n",
    "    # I sort the movies by score\n",
    "    ranked_item_score = item_score.sort_values(by='movie_score', ascending=False)\n",
    "    # I create a dataframe with the movieId, the estimated rate, the movie title, and the movie genre that is the recommandation datatset\n",
    "    best_movies= pd.merge( ranked_item_score, movies, on= 'movieId')\n",
    "    # I create a dataframe with movieId, rate, movie title and genre, that is the the dataframe with the movies watched\n",
    "    picked_userid_watched1= pd.merge(picked_userid_watched1.T, movies, on= 'movieId')\n",
    "    # I sort the previous dataset by rate\n",
    "    picked_userid_watched2=picked_userid_watched1.sort_values(by=[picked_userid], ascending=False)\n",
    "    # I rename one of the columns because it create some problems in the execution, since it wasn't a string\n",
    "    picked_userid_watched2.rename(columns = {picked_userid:'Rate'}, inplace = True)\n",
    "    # I select top m movies: I decided to recommand just 20 movies\n",
    "    m = 20\n",
    "    # I write the first 20 recommanded movies in an excel file and even the first 20 watched movies by rate in another excel file (I decided to take 20 even in this case, just to get the preferred by the user)\n",
    "    best_movies.head(m).to_excel(\"output.xlsx\")\n",
    "    picked_userid_watched2.head(m).to_excel('watched.xlsx')\n",
    "    # I ask to return them in order to have a look when I just call the function\n",
    "    return best_movies.head(m)\n",
    "    return picked_userid_watched2.head(m)"
   ]
  },
  {
   "attachments": {},
   "cell_type": "markdown",
   "id": "e79b5a45",
   "metadata": {},
   "source": [
    "I decided to create a simple GUI in which you can insert the UserId and it has two buttons: one have a look at the movies the user liked the most (in order that you can make an idea of the user preferences) and the other shows you the recommanded movies for that User.\n",
    "If you insert a non valid userId a messagebox is shown, telling you that your userId is invalid, if you close it you can try again. \n",
    "The dataframe are shown in toplevel windows that can be closed and you can start from the beginning without exectuing the code again.\n"
   ]
  },
  {
   "attachments": {},
   "cell_type": "markdown",
   "id": "c3679507",
   "metadata": {},
   "source": [
    "The allowed userId are the numbers from 1 to 610"
   ]
  },
  {
   "cell_type": "code",
   "execution_count": null,
   "id": "68f1aad0",
   "metadata": {},
   "outputs": [],
   "source": [
    "# I create the main window with a title,a size and a beckground color\n",
    "window = tk.Tk()\n",
    "window.title(\"Choose UserId\")\n",
    "window.geometry('600x400')\n",
    "window.configure(bg='#333333')\n",
    "\n",
    "# I define the function that checks if the userId is valid or not. If it is valid it open the recommand movies window, if it's not it opens the error messagebox\n",
    "def login():\n",
    "    username = range(1,len(df_ratings)+1)\n",
    "    try:\n",
    "        if int(username_entry.get()) in username:\n",
    "            open_secondary_window()\n",
    "    except:\n",
    "        messagebox.showinfo(title=\"Error\", message=\"Invalid UserId.\")\n",
    "        \n",
    " # I define the function that checks if the userId is valid or not. If it is valid it open the watched movies window, if it's not it opens the error messagebox      \n",
    "def look():\n",
    "    username = range(1,len(df_ratings)+1)\n",
    "    try:\n",
    "        if int(username_entry.get()) in username:\n",
    "            open_third_window()\n",
    "    except:\n",
    "        messagebox.showinfo(title=\"Error\", message=\"Invalid UserId.\")\n",
    "\n",
    "# I create a frame with a beckground color\n",
    "\n",
    "frame = tk.Frame(bg='#333333')\n",
    "\n",
    "# This is the funtion that creates the secondary window with the recommandations    \n",
    "def open_secondary_window():\n",
    "    # Create secondary window with a title and a beckground color\n",
    "    secondary_window = tk.Toplevel()\n",
    "    secondary_window.title(\"Reccomanded movies\")\n",
    "    secondary_window.config(bg='#333333')\n",
    "    \n",
    "    # I call the Recommand function with argument the UserId I entered in the main window\n",
    "    Recommand(int(username_entry.get()))\n",
    "    # I write the excel file as pandas dataframe, with only the necessary columns\n",
    "    df= pd.read_excel(\"output.xlsx\", usecols= 'C, D,E')\n",
    "    # I extract number of rows and columns from the dataframe\n",
    "    n_rows = df.shape[0]\n",
    "    n_cols = df.shape[1]\n",
    "\n",
    "    # I extract columns from the data and I create a text widget with some background color\n",
    "    # I didn't make a loop, but I repeated the code because I wanted to have different width of the columns\n",
    "    column_names = df.columns\n",
    "    i=0\n",
    "    text = tk.Text(secondary_window, width=15, height=1, bg='#00CCCC', font=(\"Arial\", 16))\n",
    "    text.grid(row=i,column=0)\n",
    "    text.insert(tk.INSERT, 'Possible rate')\n",
    "\n",
    "    text = tk.Text(secondary_window, width=40, height=1, bg='#00CCCC', font=(\"Arial\", 16))\n",
    "    text.grid(row=i,column=1)\n",
    "    text.insert(tk.INSERT, 'Title')\n",
    "    \n",
    "    text = tk.Text(secondary_window, width=40, height=1, bg='#00CCCC', font=(\"Arial\", 16))\n",
    "    text.grid(row=i,column=2)\n",
    "    text.insert(tk.INSERT, 'Genre')\n",
    "\n",
    "    # NOw, I add all the other rows into the grid, mantaining the same width as the title\n",
    "    for i in range(n_rows):\n",
    "\n",
    "        text = tk.Text(secondary_window, width=15, height=1, bg='#333333', fg=\"#FFFFFF\", font=(\"Arial\", 16))\n",
    "        text.grid(row=i+1,column=0)\n",
    "        text.insert(tk.INSERT, df.loc[i][0])\n",
    "\n",
    "        text = tk.Text(secondary_window, width=40, height=1, bg='#333333', fg=\"#FFFFFF\", font=(\"Arial\", 16))\n",
    "        text.grid(row=i+1,column=1)\n",
    "        text.insert(tk.INSERT, df.loc[i][1])\n",
    "\n",
    "        text = tk.Text(secondary_window, width=40, height=1, bg='#333333', fg=\"#FFFFFF\", font=(\"Arial\", 16))\n",
    "        text.grid(row=i+1,column=2)\n",
    "        text.insert(tk.INSERT, df.loc[i][2])\n",
    "      \n",
    "    # This command is needed because when the secondary window is open, you cannot interact with the main one\n",
    "    secondary_window.grab_set() \n",
    "    \n",
    "# This function is exactly the same as the previous one, with the only difference that the file opened is the watched movies one\n",
    "# I do not repeat the comments, since they are identical   \n",
    "def open_third_window():\n",
    "\n",
    "    secondary_window = tk.Toplevel()\n",
    "    secondary_window.title(\"Watched movies\")\n",
    "    secondary_window.config(bg='#333333')\n",
    "    \n",
    "    Recommand(int(username_entry.get()))\n",
    "    df= pd.read_excel(\"watched.xlsx\", usecols= 'C, D,E')\n",
    "    \n",
    "    n_rows = df.shape[0]\n",
    "    n_cols = df.shape[1]\n",
    "\n",
    "    column_names = df.columns\n",
    "    i=0\n",
    "    text = tk.Text(secondary_window, width=15, height=1, bg='#00CCCC', font=(\"Arial\", 16))\n",
    "    text.grid(row=i,column=0)\n",
    "    text.insert(tk.INSERT, 'Possible rate')\n",
    "\n",
    "    text = tk.Text(secondary_window, width=40, height=1, bg='#00CCCC', font=(\"Arial\", 16))\n",
    "    text.grid(row=i,column=1)\n",
    "    text.insert(tk.INSERT, 'Title')\n",
    "    \n",
    "    text = tk.Text(secondary_window, width=40, height=1, bg='#00CCCC', font=(\"Arial\", 16))\n",
    "    text.grid(row=i,column=2)\n",
    "    text.insert(tk.INSERT, 'Genre')\n",
    "    \n",
    "\n",
    "    for i in range(n_rows):\n",
    "\n",
    "        text = tk.Text(secondary_window, width=15, height=1, bg='#333333', fg=\"#FFFFFF\", font=(\"Arial\", 16))\n",
    "        text.grid(row=i+1,column=0)\n",
    "        text.insert(tk.INSERT, df.loc[i][0])\n",
    "\n",
    "        text = tk.Text(secondary_window, width=40, height=1, bg='#333333', fg=\"#FFFFFF\", font=(\"Arial\", 16))\n",
    "        text.grid(row=i+1,column=1)\n",
    "        text.insert(tk.INSERT, df.loc[i][1])\n",
    "\n",
    "        text = tk.Text(secondary_window, width=40, height=1, bg='#333333', fg=\"#FFFFFF\", font=(\"Arial\", 16))\n",
    "        text.grid(row=i+1,column=2)\n",
    "        text.insert(tk.INSERT, df.loc[i][2])\n",
    "    \n",
    "    \n",
    "    secondary_window.grab_set()  # Modal.\n",
    "\n",
    "# Here, I create the widgets\n",
    "# Label with the request with a certain color and with a certain font and size\n",
    "login_label = tk.Label(\n",
    "    frame, text=\"  Choose the UserId desired\", bg='#333333', fg='#00CCCC', font=(\"Arial\", 30))\n",
    "# Label with the username with a certain color and with a certain font and size\n",
    "username_label = tk.Label(\n",
    "    frame, text=\"Username\", bg='#333333', fg=\"#FFFFFF\", font=(\"Arial\", 16))\n",
    "# Here you can enter the chosen UserId\n",
    "username_entry= tk.Entry(frame, font=(\"Arial\", 16))\n",
    "# I create the button that call the login function\n",
    "login_button = tk.Button(\n",
    "    frame, text=\"Recommand\", bg=\"#00CCCC\", fg=\"#FFFFFF\", font=(\"Arial\", 16), command=login)\n",
    "# I create the button that call the look funtion \n",
    "liked_button = tk.Button(\n",
    "    frame, text=\"My movies\", bg=\"#00CCCC\", fg=\"#FFFFFF\", font=(\"Arial\", 16), command=look)\n",
    "\n",
    "# I place widgets on the screen\n",
    "login_label.grid(row=0, column=0, columnspan=3, sticky=\"news\", pady=40)\n",
    "username_label.grid(row=1, column=0)\n",
    "username_entry.grid(row=1, column=1,columnspan=2, pady=20)\n",
    "login_button.grid(row=3, column=1, columnspan=1, pady=10)\n",
    "liked_button.grid(row=4, column=1, columnspan=1, pady=10)\n",
    "\n",
    "# I show my GUI\n",
    "frame.pack()\n",
    "\n",
    "window.mainloop()"
   ]
  }
 ],
 "metadata": {
  "kernelspec": {
   "display_name": "Python 3 (ipykernel)",
   "language": "python",
   "name": "python3"
  }
 },
 "nbformat": 4,
 "nbformat_minor": 5
}
